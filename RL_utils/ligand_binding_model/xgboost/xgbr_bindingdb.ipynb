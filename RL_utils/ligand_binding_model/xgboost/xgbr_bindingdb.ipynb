{
 "cells": [
  {
   "cell_type": "code",
   "execution_count": 1,
   "id": "816ea98a-e538-4787-a8fa-80c46eaa0f0a",
   "metadata": {},
   "outputs": [],
   "source": [
    "import pickle\n",
    "import pandas as pd\n",
    "import numpy as np\n",
    "import seaborn as sns\n",
    "import matplotlib.pyplot as plt\n",
    "\n",
    "from rdkit import Chem\n",
    "from rdkit.Chem import AllChem\n",
    "\n",
    "from xgboost import XGBRegressor\n",
    "from sklearn.model_selection import cross_val_score, KFold\n",
    "from sklearn.metrics import r2_score\n"
   ]
  },
  {
   "cell_type": "code",
   "execution_count": 2,
   "id": "c6875050-ee30-40fc-9750-caaf7cf8d0d5",
   "metadata": {},
   "outputs": [],
   "source": [
    "target_unit_pro_id = \"P42345\" # mTOR\n",
    "binding_db_path = \"BindingDB_mTOR.tsv\"\n",
    "output_path = \"P42345_ligand_binding.pkl\"\n",
    "\n",
    "output_path = f'{target_unit_pro_id}_xgbr_ligand_model.pkl'\n",
    "binddb = pd.read_table(binding_db_path, sep=\"\\t\",header=0,low_memory=False)"
   ]
  },
  {
   "cell_type": "code",
   "execution_count": null,
   "id": "58887e77-61a5-4fe1-87a6-e2a4d2c54498",
   "metadata": {},
   "outputs": [],
   "source": [
    "d = binddb[binddb['UniProt (SwissProt) Primary ID of Target Chain']==target_unit_pro_id]\n",
    "d = d[['Ligand SMILES','IC50 (nM)']]\n",
    "d.columns = ['smiles','ic50']\n",
    "d = d.dropna(subset=['ic50'])\n",
    "print(d)"
   ]
  },
  {
   "cell_type": "code",
   "execution_count": null,
   "id": "762a67d2-459e-46ed-9018-956165bf2172",
   "metadata": {},
   "outputs": [],
   "source": [
    "d['ic50'] = d['ic50'].str.replace('[><=]', '', regex=True)\n",
    "d['ic50'] = d['ic50'].astype(float)\n",
    "print(d)"
   ]
  },
  {
   "cell_type": "code",
   "execution_count": null,
   "id": "3700e686-f99a-4474-9940-9d4d8250a0a8",
   "metadata": {},
   "outputs": [],
   "source": [
    "d = d[(d['ic50'] <= 1000)]\n",
    "\n",
    "print(f'Number of obs: {d.shape[0]}:')\n",
    "print(d)"
   ]
  },
  {
   "cell_type": "code",
   "execution_count": null,
   "id": "452e18ab-b813-45df-837e-15385049511c",
   "metadata": {},
   "outputs": [],
   "source": [
    "vs = []\n",
    "for i in d[['ic50']].values:\n",
    "    t = -np.log10(i*1E-9) \n",
    "    vs.append(t)\n",
    "\n",
    "\n",
    "d['metric_value'] = vs\n",
    "d = d[['smiles','metric_value']]\n",
    "d['metric_value'] = d['metric_value'].astype(float)\n",
    "d = d[d['metric_value'] != np.inf]\n",
    "d = d.drop_duplicates(subset='smiles')\n",
    "d = d.dropna()\n",
    "\n",
    "print(f'Number of obs: {d.shape[0]}:')\n",
    "\n",
    "if d.shape[0]<10:\n",
    "    print('Less than 10 compound-target pairs. Not fitting a model')\n",
    "    print(\"errorerror\")\n",
    "# convert to fingerprint\n",
    "fps = []\n",
    "values = []\n",
    "fp_smiles = []\n",
    "for x,y in d[['smiles','metric_value']].values:\n",
    "    try:\n",
    "        fp = AllChem.GetMorganFingerprintAsBitVect(Chem.MolFromSmiles(x),2)\n",
    "        fp_smiles.append(x)\n",
    "    except:\n",
    "        continue\n",
    "    \n",
    "    fps.append(fp)\n",
    "    values.append(y)\n",
    "\n",
    "X = np.array(fps)\n",
    "y = np.array(values)"
   ]
  },
  {
   "cell_type": "code",
   "execution_count": null,
   "id": "90004885",
   "metadata": {},
   "outputs": [],
   "source": [
    "xgb_regr = XGBRegressor(n_estimators=1000, random_state=0, n_jobs=-1)\n",
    "xgb_regr.fit(X, y)\n",
    "\n",
    "with open(output_path, 'wb') as handle:\n",
    "    s = pickle.dump(xgb_regr, handle)"
   ]
  }
 ],
 "metadata": {
  "kernelspec": {
   "display_name": "pxh_diff",
   "language": "python",
   "name": "python3"
  },
  "language_info": {
   "codemirror_mode": {
    "name": "ipython",
    "version": 3
   },
   "file_extension": ".py",
   "mimetype": "text/x-python",
   "name": "python",
   "nbconvert_exporter": "python",
   "pygments_lexer": "ipython3",
   "version": "3.8.19"
  }
 },
 "nbformat": 4,
 "nbformat_minor": 5
}
